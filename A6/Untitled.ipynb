{
 "cells": [
  {
   "cell_type": "code",
   "execution_count": 27,
   "id": "circular-sudan",
   "metadata": {},
   "outputs": [],
   "source": [
    "i = {5:11, 12:4, 1:0, 2:9}"
   ]
  },
  {
   "cell_type": "code",
   "execution_count": 36,
   "id": "baking-bulgarian",
   "metadata": {},
   "outputs": [],
   "source": [
    "line = \"101\\t102\\t1\""
   ]
  },
  {
   "cell_type": "code",
   "execution_count": 40,
   "id": "front-speed",
   "metadata": {},
   "outputs": [
    {
     "data": {
      "text/plain": [
       "'101'"
      ]
     },
     "execution_count": 40,
     "metadata": {},
     "output_type": "execute_result"
    }
   ],
   "source": [
    "node1, node2, x = line.split('\\t', 2)\n",
    "node2 = int(node2)\n",
    "node1"
   ]
  },
  {
   "cell_type": "code",
   "execution_count": 35,
   "id": "sound-inspiration",
   "metadata": {},
   "outputs": [
    {
     "name": "stdout",
     "output_type": "stream",
     "text": [
      "5\n",
      "9\n",
      "11\n",
      "50\n",
      "71\n"
     ]
    }
   ],
   "source": [
    "for user in sorted(top_users.items(), key = lambda kv:(kv[1], kv[0])):\n",
    "    print(user[1][0])"
   ]
  },
  {
   "cell_type": "code",
   "execution_count": 90,
   "id": "disabled-vacation",
   "metadata": {},
   "outputs": [
    {
     "name": "stdout",
     "output_type": "stream",
     "text": [
      "0\n"
     ]
    }
   ],
   "source": [
    "node = 0\n",
    "if node in range(0, 1000):\n",
    "    print(node)"
   ]
  },
  {
   "cell_type": "code",
   "execution_count": 68,
   "id": "instant-audio",
   "metadata": {},
   "outputs": [],
   "source": [
    "j = {}"
   ]
  },
  {
   "cell_type": "code",
   "execution_count": 26,
   "id": "respiratory-blood",
   "metadata": {},
   "outputs": [
    {
     "ename": "TypeError",
     "evalue": "'int' object is not iterable",
     "output_type": "error",
     "traceback": [
      "\u001b[0;31m---------------------------------------------------------------------------\u001b[0m",
      "\u001b[0;31mTypeError\u001b[0m                                 Traceback (most recent call last)",
      "\u001b[0;32m<ipython-input-26-1e352379fb1e>\u001b[0m in \u001b[0;36m<module>\u001b[0;34m\u001b[0m\n\u001b[0;32m----> 1\u001b[0;31m \u001b[0;32mfor\u001b[0m \u001b[0mk\u001b[0m \u001b[0;32min\u001b[0m \u001b[0msorted\u001b[0m \u001b[0;34m(\u001b[0m\u001b[0mi\u001b[0m\u001b[0;34m)\u001b[0m\u001b[0;34m:\u001b[0m\u001b[0;34m\u001b[0m\u001b[0;34m\u001b[0m\u001b[0m\n\u001b[0m\u001b[1;32m      2\u001b[0m     \u001b[0mprint\u001b[0m \u001b[0;34m(\u001b[0m\u001b[0;34m(\u001b[0m\u001b[0mk\u001b[0m\u001b[0;34m,\u001b[0m \u001b[0mi\u001b[0m\u001b[0;34m[\u001b[0m\u001b[0mk\u001b[0m\u001b[0;34m]\u001b[0m\u001b[0;34m)\u001b[0m\u001b[0;34m,\u001b[0m \u001b[0mend\u001b[0m \u001b[0;34m=\u001b[0m\u001b[0;34m\" \"\u001b[0m\u001b[0;34m)\u001b[0m\u001b[0;34m\u001b[0m\u001b[0;34m\u001b[0m\u001b[0m\n\u001b[1;32m      3\u001b[0m     \u001b[0mj\u001b[0m\u001b[0;34m[\u001b[0m\u001b[0mk\u001b[0m\u001b[0;34m]\u001b[0m \u001b[0;34m=\u001b[0m \u001b[0mi\u001b[0m\u001b[0;34m[\u001b[0m\u001b[0mk\u001b[0m\u001b[0;34m]\u001b[0m\u001b[0;34m\u001b[0m\u001b[0;34m\u001b[0m\u001b[0m\n",
      "\u001b[0;31mTypeError\u001b[0m: 'int' object is not iterable"
     ]
    }
   ],
   "source": [
    "for k in sorted (i):\n",
    "    print ((k, i[k]), end =\" \")\n",
    "    j[k] = i[k]"
   ]
  },
  {
   "cell_type": "code",
   "execution_count": 25,
   "id": "lucky-catering",
   "metadata": {},
   "outputs": [
    {
     "ename": "NameError",
     "evalue": "name 'j' is not defined",
     "output_type": "error",
     "traceback": [
      "\u001b[0;31m---------------------------------------------------------------------------\u001b[0m",
      "\u001b[0;31mNameError\u001b[0m                                 Traceback (most recent call last)",
      "\u001b[0;32m<ipython-input-25-3eedd8854d1e>\u001b[0m in \u001b[0;36m<module>\u001b[0;34m\u001b[0m\n\u001b[0;32m----> 1\u001b[0;31m \u001b[0mj\u001b[0m\u001b[0;34m\u001b[0m\u001b[0;34m\u001b[0m\u001b[0m\n\u001b[0m",
      "\u001b[0;31mNameError\u001b[0m: name 'j' is not defined"
     ]
    }
   ],
   "source": [
    "j"
   ]
  },
  {
   "cell_type": "code",
   "execution_count": 23,
   "id": "elect-celtic",
   "metadata": {},
   "outputs": [
    {
     "data": {
      "text/plain": [
       "9"
      ]
     },
     "execution_count": 23,
     "metadata": {},
     "output_type": "execute_result"
    }
   ],
   "source": [
    "i"
   ]
  },
  {
   "cell_type": "code",
   "execution_count": 30,
   "id": "specified-evening",
   "metadata": {},
   "outputs": [],
   "source": [
    "top_users = {}\n",
    "top_users[1] = [9, 27];\n",
    "top_users[5] = [11,2];\n",
    "top_users[12] = [5,32];\n",
    "top_users[2] = [50,8];\n",
    "top_users[7] = [71,5];"
   ]
  },
  {
   "cell_type": "code",
   "execution_count": 31,
   "id": "indoor-philippines",
   "metadata": {},
   "outputs": [
    {
     "data": {
      "text/plain": [
       "{1: [9, 27], 5: [11, 2], 12: [5, 32], 2: [50, 8], 7: [71, 5]}"
      ]
     },
     "execution_count": 31,
     "metadata": {},
     "output_type": "execute_result"
    }
   ],
   "source": [
    "top_users"
   ]
  },
  {
   "cell_type": "code",
   "execution_count": 51,
   "id": "compact-production",
   "metadata": {},
   "outputs": [],
   "source": [
    "f_key = next(iter(j))"
   ]
  },
  {
   "cell_type": "code",
   "execution_count": 52,
   "id": "smoking-engagement",
   "metadata": {},
   "outputs": [
    {
     "data": {
      "text/plain": [
       "1"
      ]
     },
     "execution_count": 52,
     "metadata": {},
     "output_type": "execute_result"
    }
   ],
   "source": [
    "f_key"
   ]
  },
  {
   "cell_type": "code",
   "execution_count": null,
   "id": "historical-tampa",
   "metadata": {},
   "outputs": [],
   "source": []
  }
 ],
 "metadata": {
  "kernelspec": {
   "display_name": "Python 3",
   "language": "python",
   "name": "python3"
  },
  "language_info": {
   "codemirror_mode": {
    "name": "ipython",
    "version": 3
   },
   "file_extension": ".py",
   "mimetype": "text/x-python",
   "name": "python",
   "nbconvert_exporter": "python",
   "pygments_lexer": "ipython3",
   "version": "3.8.5"
  }
 },
 "nbformat": 4,
 "nbformat_minor": 5
}
